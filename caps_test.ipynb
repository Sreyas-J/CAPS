{
 "cells": [
  {
   "cell_type": "markdown",
   "metadata": {},
   "source": [
    "REQUIRED IMPORTS"
   ]
  },
  {
   "cell_type": "code",
   "execution_count": 232,
   "metadata": {},
   "outputs": [],
   "source": [
    "import numpy as np\n",
    "import matplotlib.pyplot as plt\n",
    "from mpl_toolkits.mplot3d import Axes3D\n",
    "from sklearn.cluster import KMeans\n",
    "import math"
   ]
  },
  {
   "cell_type": "markdown",
   "metadata": {},
   "source": [
    "3GPP LTE PARAMETERS"
   ]
  },
  {
   "cell_type": "code",
   "execution_count": 233,
   "metadata": {},
   "outputs": [],
   "source": [
    "x_length = 1000  # meters\n",
    "y_length = 1000  # meters\n",
    "n_aps = 5        # Number of APs\n",
    "n_users = 10     # Number of users\n",
    "M_ant = 100          # Antennas per AP\n",
    "p_p = 0.2        # Pilot power (W)\n",
    "p_d = 0.2        # Data power (W)\n",
    "tau_c = 200      # Coherence length (symbols)\n",
    "tau_p = 20       # Pilot length (symbols)\n",
    "gamma = 3.76     # Path loss exponent\n",
    "shadow_std = 5   # Shadow fading standard deviation (dB)\n",
    "beta_0db = 35.3    # Reference path loss\n",
    "\n",
    "np.random.seed(42)"
   ]
  },
  {
   "cell_type": "markdown",
   "metadata": {},
   "source": [
    "DISTRIBUTING UEs AND APs"
   ]
  },
  {
   "cell_type": "code",
   "execution_count": 234,
   "metadata": {},
   "outputs": [],
   "source": [
    "x_pos_aps = np.random.uniform(0, x_length, n_aps)\n",
    "y_pos_aps = np.random.uniform(0, y_length, n_aps)\n",
    "\n",
    "x_pos_users = np.random.uniform(0, x_length, n_users)\n",
    "y_pos_users = np.random.uniform(0, y_length, n_users)\n",
    "\n",
    "X_aps = np.column_stack((x_pos_aps, y_pos_aps))\n",
    "X_users = np.column_stack((x_pos_users, y_pos_users))"
   ]
  },
  {
   "cell_type": "markdown",
   "metadata": {},
   "source": [
    "FUNCTION TO COMPUTE DISTANCES BETWEEN UEs AND APs"
   ]
  },
  {
   "cell_type": "code",
   "execution_count": 235,
   "metadata": {},
   "outputs": [],
   "source": [
    "def compute_distances(X_users, X_aps):\n",
    "    n_users, n_aps = len(X_users), len(X_aps)\n",
    "    distances = np.zeros((n_users, n_aps))\n",
    "    for k in range(n_users):\n",
    "        for l in range(n_aps):\n",
    "            distances[k, l] = np.sqrt((X_users[k, 0] - X_aps[l, 0])**2 +\n",
    "                                      (X_users[k, 1] - X_aps[l, 1])**2)\n",
    "    return distances"
   ]
  },
  {
   "cell_type": "markdown",
   "metadata": {},
   "source": [
    "FUNCTION TO COMPUTE ALL BETAS AND ETAS"
   ]
  },
  {
   "cell_type": "code",
   "execution_count": 236,
   "metadata": {},
   "outputs": [],
   "source": [
    "def compute_beta(distances, gamma, shadow_std,beta_0db):\n",
    "\n",
    "    n_users, n_aps = distances.shape\n",
    "    beta_linear = np.zeros((n_users, n_aps))\n",
    "    for k in range(n_users):\n",
    "        for l in range(n_aps):\n",
    "            d_kl = max(distances[k, l], 1)  # Avoid log(0)\n",
    "            path_loss = -beta_0db - gamma * np.log10(d_kl)\n",
    "            shadow_fading = np.random.normal(0, shadow_std)\n",
    "            beta_dB = path_loss + shadow_fading\n",
    "            beta_linear[k, l] = 10 ** (beta_dB / 10)\n",
    "    return beta_linear\n",
    "\n",
    "# Compute eta_kl\n",
    "def compute_eta(beta, p_p, tau_p):\n",
    "    eta = (p_p * tau_p * beta**2) / (tau_p * p_p * beta + 1)\n",
    "    return eta"
   ]
  },
  {
   "cell_type": "markdown",
   "metadata": {},
   "source": [
    "FUNCTION TO CALCULATE SPECTRAL EFFICIENCY OF A CONNECTION"
   ]
  },
  {
   "cell_type": "code",
   "execution_count": 237,
   "metadata": {},
   "outputs": [],
   "source": [
    "def compute_spectral_efficiency(assignment, beta, eta, M_ant, p_d, tau_c, tau_p,eta_kl):\n",
    "    n_users, n_aps = beta.shape\n",
    "    S = np.zeros(n_users)\n",
    "\n",
    "    # Users served by each AP\n",
    "    interference = 0\n",
    "    U = [[] for _ in range(n_aps)]\n",
    "    for k in range(n_users):\n",
    "        if(k<len(assignment)):\n",
    "            l_k = assignment[k]\n",
    "            U[l_k].append(k)\n",
    "\n",
    "        for j in range(n_aps):\n",
    "            for i in U[j]:\n",
    "                interference += M_ant * p_d * eta[i, j] * beta[k, j]\n",
    "\n",
    "    numerator = M_ant**2 * p_d * eta_kl**2\n",
    "\n",
    "\n",
    "    denominator = interference + 1  # noise normalized to 1\n",
    "\n",
    "    SINR_k = numerator / denominator\n",
    "    S = ((tau_c - tau_p) / tau_c) * np.log2(1 + SINR_k) \n",
    "\n",
    "    return S"
   ]
  },
  {
   "cell_type": "code",
   "execution_count": 238,
   "metadata": {},
   "outputs": [],
   "source": [
    "def random_ap_assignment(n_users, n_aps):\n",
    "    return np.random.randint(0, n_aps, size=n_users)"
   ]
  },
  {
   "cell_type": "markdown",
   "metadata": {},
   "source": [
    "CAPS ASSIGNMENT ALGORITHM"
   ]
  },
  {
   "cell_type": "code",
   "execution_count": 239,
   "metadata": {},
   "outputs": [],
   "source": [
    "def CAPS(n_users,distances,assignments,iter):\n",
    "    n_clusters = 5\n",
    "    def clusters():\n",
    "        kmeans_aps = KMeans(n_clusters=n_clusters, init='k-means++', n_init=10, random_state=42)\n",
    "        cluster_labels_aps = kmeans_aps.fit_predict(X_aps)\n",
    "        # print(\"cluster_labels_aps: \",cluster_labels_aps)\n",
    "        clusterAP = [[] for _ in range(n_clusters)]\n",
    "\n",
    "        for i in range(n_aps):\n",
    "            clusterAP[cluster_labels_aps[i]].append(i)\n",
    "\n",
    "        return kmeans_aps.cluster_centers_ , clusterAP\n",
    "    betaFactor = 9e-4 \n",
    "    centroids_aps,clusterAP = clusters()                                                                                                                                                                                                               ;\n",
    "    tau_p = 50       # Pilot length (symbols)\n",
    "    def dist_centroid():\n",
    "        distances = np.zeros((n_users, n_clusters))\n",
    "\n",
    "    # Calculate distances between each user and each cluster centroid\n",
    "        for i in range(n_users):\n",
    "            for j in range(n_clusters):\n",
    "                # Calculate Euclidean distance in 3D space\n",
    "                distances[i, j] = np.sqrt(np.sum((X_users[i] - centroids_aps[j])**2))\n",
    "\n",
    "        clusterX=np.zeros(n_users,dtype=int)\n",
    "        for i in range(n_users):\n",
    "            clusterX[i] = np.argsort(distances[i])[0]\n",
    "        return clusterX\n",
    "    beta_0 = 1e-3\n",
    "    clusterX = dist_centroid()\n",
    "    std = 5.5 \n",
    "    def assign_nearest_ap():\n",
    "        Mi = [[] for _ in range(n_users)]\n",
    "        for i in range(n_users):\n",
    "            Mi[i]=clusterAP[clusterX[i]]\n",
    "        return Mi\n",
    "    c = 200 \n",
    "    Mi = assign_nearest_ap()\n",
    "\n",
    "    beta = compute_beta(distances, betaFactor, std,beta_0)\n",
    "    eta = compute_eta(beta, p_p, tau_p)\n",
    "\n",
    "    spectralEff = [[] for _ in range(n_users)]\n",
    "\n",
    "    for i in range(n_users):\n",
    "        for j in range(len(Mi[i])):\n",
    "            S = compute_spectral_efficiency(assignments, beta, eta, M_ant, p_d, c, tau_p,eta[i][j])\n",
    "            spectralEff[i].append(S)\n",
    "\n",
    "    argm = np.argmax(spectralEff[iter])\n",
    "\n",
    "    assignments[iter]=Mi[iter][argm]\n",
    "    return spectralEff\n"
   ]
  },
  {
   "cell_type": "markdown",
   "metadata": {},
   "source": [
    "SETTING UP ENV FOR CAPS ALGO"
   ]
  },
  {
   "cell_type": "code",
   "execution_count": 240,
   "metadata": {},
   "outputs": [],
   "source": [
    "assignments = [0 for _ in range(n_users)]\n",
    "distances = compute_distances(X_users,X_aps)\n",
    "iter = 0"
   ]
  },
  {
   "cell_type": "markdown",
   "metadata": {},
   "source": [
    "CAPS WRAPPER FUNCTION"
   ]
  },
  {
   "cell_type": "code",
   "execution_count": 241,
   "metadata": {},
   "outputs": [],
   "source": [
    "def caps_calc(sum_se_caps):\n",
    "    iter=0\n",
    "    while(iter<n_users):\n",
    "        spectralEff = CAPS(n_users,distances,assignments,iter)\n",
    "        iter+=1\n",
    "    eff=[]\n",
    "    for j in range(len(spectralEff)):\n",
    "        eff.append(max(spectralEff[j]))\n",
    "    sum_se_caps.append(np.sum(eff))"
   ]
  },
  {
   "cell_type": "markdown",
   "metadata": {},
   "source": [
    "SPECTRAL EFFICIENCY (SE) WRAPPER FUNCTION"
   ]
  },
  {
   "cell_type": "code",
   "execution_count": 242,
   "metadata": {},
   "outputs": [],
   "source": [
    "def spec_calc(fun,n_realizations):\n",
    "\n",
    "    sum_se=[]\n",
    "    for i in range(n_realizations):\n",
    "        fun(sum_se)\n",
    "    return sum_se"
   ]
  },
  {
   "cell_type": "markdown",
   "metadata": {},
   "source": [
    "OBTAINING CAPS' SE"
   ]
  },
  {
   "cell_type": "code",
   "execution_count": 243,
   "metadata": {},
   "outputs": [],
   "source": [
    "n_realizations=500\n",
    "sum_se_caps=[]\n",
    "sum_se_rand=[]\n",
    "\n",
    "sum_se_caps=spec_calc(caps_calc,n_realizations)"
   ]
  },
  {
   "cell_type": "markdown",
   "metadata": {},
   "source": [
    "RANDOM ASSIGNMENT SE"
   ]
  },
  {
   "cell_type": "code",
   "execution_count": 244,
   "metadata": {},
   "outputs": [
    {
     "name": "stdout",
     "output_type": "stream",
     "text": [
      "[3.48197935e-06 1.50477706e-05 5.85999385e-07 5.79952758e-01\n",
      " 9.24576555e-01 4.40166226e-01 5.76193411e-02 4.44589424e-07\n",
      " 1.18610219e+00 1.81810682e-05]\n",
      "User-to-AP Assignments and Spectral Efficiency (bits/s/Hz):\n",
      "User 0 assigned to AP 2: SE = 0.0003\n",
      "User 1 assigned to AP 3: SE = 0.0045\n",
      "User 2 assigned to AP 4: SE = 0.2708\n",
      "User 3 assigned to AP 2: SE = 2.4594\n",
      "User 4 assigned to AP 1: SE = 0.0015\n",
      "User 5 assigned to AP 3: SE = 0.0008\n",
      "User 6 assigned to AP 2: SE = 0.0000\n",
      "User 7 assigned to AP 4: SE = 0.0000\n",
      "User 8 assigned to AP 4: SE = 0.0000\n",
      "User 9 assigned to AP 0: SE = 0.0003\n",
      "Sum SE values across realizations:\n"
     ]
    }
   ],
   "source": [
    "shadow_std = 5 \n",
    "\n",
    "# Generate AP and user positions (only x and y now, no z)\n",
    "x_pos_aps = np.random.uniform(0, x_length, n_aps)\n",
    "y_pos_aps = np.random.uniform(0, y_length, n_aps)\n",
    "\n",
    "x_pos_users = np.random.uniform(0, x_length, n_users)\n",
    "y_pos_users = np.random.uniform(0, y_length, n_users)\n",
    "\n",
    "X_aps = np.column_stack((x_pos_aps, y_pos_aps))\n",
    "X_users = np.column_stack((x_pos_users, y_pos_users))\n",
    "g = 3.76\n",
    "# Random AP assignment function\n",
    "def random_ap_assignment(n_users, n_aps):\n",
    "    return np.random.randint(0, n_aps, size=n_users)\n",
    "p = 10 \n",
    "# Compute spectral efficiency\n",
    "def compute_spectral_efficiency(assignments, beta, eta, M, p_d, tau_c, tau_p):\n",
    "    n_users, n_aps = beta.shape\n",
    "    S = np.zeros(n_users)\n",
    "\n",
    "    # Users served by each AP\n",
    "    U = [[] for _ in range(n_aps)]\n",
    "    for k in range(n_users):\n",
    "        l_k = assignments[k]\n",
    "        U[l_k].append(k)\n",
    "\n",
    "    for k in range(n_users):\n",
    "        l_k = assignments[k]\n",
    "        numerator = M**2 * p_d * eta[k, l_k]**2\n",
    "\n",
    "        interference = 0\n",
    "        for j in range(n_aps):\n",
    "            for i in U[j]:\n",
    "                interference += M * p_d * eta[i, j] * beta[k, j]\n",
    "        denominator = interference + 1  # noise normalized to 1\n",
    "\n",
    "        SINR_k = numerator / denominator\n",
    "        S[k] = ((tau_c - tau_p) / tau_c) * np.log2(1 + SINR_k)\n",
    "\n",
    "    return S\n",
    "betaFactor = 8.53\n",
    "# Monte-Carlo simulation for CDF\n",
    "n_realizations = 500\n",
    "sum_se = []\n",
    "\n",
    "for iter in range(n_realizations):\n",
    "    assignments = random_ap_assignment(n_users, n_aps)\n",
    "    distances = compute_distances(X_users, X_aps)\n",
    "    \n",
    "    beta = compute_beta(distances, g, shadow_std,betaFactor)\n",
    "    eta = compute_eta(beta, p_p, tau_p)\n",
    "    S = compute_spectral_efficiency(assignments, beta, eta, M_ant, p_d, tau_c,p)\n",
    "    if(iter==1):\n",
    "        print(S)\n",
    "    sum_se.append(np.sum(S))\n",
    "\n",
    "# print(assignments)\n",
    "\n",
    "# Print user-to-AP assignments and SE for the last realization\n",
    "print(\"User-to-AP Assignments and Spectral Efficiency (bits/s/Hz):\")\n",
    "for k in range(n_users):\n",
    "    # if(S[k]>5):\n",
    "    print(f\"User {k} assigned to AP {assignments[k]}: SE = {S[k]:.4f}\")\n",
    "\n",
    "# Compute empirical CDF\n",
    "print(\"Sum SE values across realizations:\")\n",
    "# print(sum_se)\n",
    "sum_se = np.sort(sum_se)\n",
    "cdf_rand = np.arange(1, len(sum_se) + 1) / len(sum_se)\n"
   ]
  },
  {
   "cell_type": "markdown",
   "metadata": {},
   "source": [
    "LARGEST FADING ASSIGNMENT'S SE CALCULATION"
   ]
  },
  {
   "cell_type": "code",
   "execution_count": 245,
   "metadata": {},
   "outputs": [
    {
     "name": "stdout",
     "output_type": "stream",
     "text": [
      "Completed 500 realizations with 10 users each.\n",
      "Total sum rate samples: 500\n",
      "Average system sum rate: 8.76 bits/s/Hz\n",
      "Minimum system sum rate: 2.63 bits/s/Hz\n"
     ]
    }
   ],
   "source": [
    "# Parameters (aligned with Paper [13] and Fig. 3)\n",
    "D = x_length  # 1km x 1km area\n",
    "M = n_aps     # Number of APs (L in paper)\n",
    "K = n_users    # Number of users\n",
    "gamma_pl = 2.1  # Path loss exponent\n",
    "p_d = 0.2  # Data power (200 mW)\n",
    "p_p = 0.2  # Pilot power (200 mW)\n",
    "noise_var_dBm = -94  # Noise variance in dBm\n",
    "bandwidth = 20e6  # 20 MHz\n",
    "beta_0db=34.3\n",
    "num_realizations = 500  # Number of Monte-Carlo realizations\n",
    "\n",
    "# Convert noise variance to linear scale (W/Hz)\n",
    "noise_power = 10 ** ((noise_var_dBm - 30) / 10) * 1e-3  # -94 dBm to watts\n",
    "sigma_sh_dB = 4.5\n",
    "noise_var_linear = noise_power / bandwidth  # Noise power spectral density (W/Hz)\n",
    "tau_c = 150\n",
    "tau_p = 15\n",
    "# Initialize array to store system sum rates across realizations\n",
    "all_sum_rates = []\n",
    "c = 15\n",
    "# Monte-Carlo simulation\n",
    "for realization in range(num_realizations):\n",
    "    # Generate random AP and user positions\n",
    "    ap_positions = np.random.rand(M, 2) * D    # AP positions (M x 2)\n",
    "    user_positions = np.random.rand(K, 2) * D  # User positions (K x 2)\n",
    "\n",
    "    # Compute large-scale fading coefficients (beta_kl) using 3GPP LTE model\n",
    "    beta = np.zeros((M, K))\n",
    "    for m in range(M):\n",
    "        for k in range(K):\n",
    "            dx = ap_positions[m, 0] - user_positions[k, 0]\n",
    "            dy = ap_positions[m, 1] - user_positions[k, 1]\n",
    "            dkl = math.sqrt(dx**2 + dy**2)\n",
    "            PL_dB = -beta_0db - gamma_pl * math.log10(dkl)\n",
    "            shadow_dB = np.random.normal(0, sigma_sh_dB)\n",
    "            beta_dB = PL_dB + shadow_dB\n",
    "            beta[m, k] = 10 ** (beta_dB / 10)  # Convert to linear scale\n",
    "\n",
    "    # Compute channel estimation variance (eta_kl)\n",
    "    eta = np.zeros((M, K))\n",
    "    for m in range(M):\n",
    "        for k in range(K):\n",
    "            eta[m, k] = (p_p * tau_p * beta[m, k]**2) / (tau_p * p_p * beta[m, k] + 1)\n",
    "\n",
    "    # Largest-large-scale-fading-based AP selection\n",
    "    selected_APs = {}\n",
    "    user_sets = {m: [] for m in range(M)}  # U_l: users served by AP l\n",
    "    for k in range(K):\n",
    "        selected_ap = np.argmax(beta[:, k])\n",
    "        selected_APs[k] = selected_ap\n",
    "        user_sets[selected_ap].append(k)\n",
    "\n",
    "    # Compute spectral efficiency for each user (Eq. 17 from Paper [13])\n",
    "    se = np.zeros(K)\n",
    "    for k in range(K):\n",
    "        l = selected_APs[k]  # AP serving user k\n",
    "        desired = M_ant**2 * p_d * eta[l, k]**2  # M^2 * p_d * eta_kl^2\n",
    "        interference = 0.0\n",
    "        for j in range(M):\n",
    "            for i in user_sets[j]:\n",
    "                interference += M_ant * p_d * eta[j, i] * beta[j, k]\n",
    "        sinr = desired / (interference + noise_var_linear) if (interference + noise_var_linear) != 0 else 0\n",
    "        se[k] = c * ((tau_c - tau_p) / tau_c) * math.log2(1 + sinr)\n",
    "\n",
    "    # Compute system sum rate for this realization\n",
    "    sum_rate = np.sum(se)\n",
    "    all_sum_rates.append(sum_rate)\n",
    "\n",
    "# Print summary\n",
    "print(f\"Completed {num_realizations} realizations with {K} users each.\")\n",
    "print(f\"Total sum rate samples: {len(all_sum_rates)}\")\n",
    "print(f\"Average system sum rate: {np.mean(all_sum_rates):.2f} bits/s/Hz\")\n",
    "print(f\"Minimum system sum rate: {np.min(all_sum_rates):.2f} bits/s/Hz\")\n",
    "\n",
    "# Compute and plot CDF, ensuring it starts at x = 0\n",
    "all_sum_rates = np.array(all_sum_rates)\n",
    "sum_rate_sorted = np.sort(all_sum_rates)\n",
    "cdf = np.arange(1, len(all_sum_rates) + 1) / len(all_sum_rates)  # Empirical CDF: P(SR <= x)\n",
    "\n",
    "# Prepend x = 0 with CDF = 0 to ensure the plot starts at 0\n",
    "sum_rate_sorted_lf = np.concatenate(([0], sum_rate_sorted))\n",
    "cdf_lf = np.concatenate(([0], cdf))"
   ]
  },
  {
   "cell_type": "markdown",
   "metadata": {},
   "source": [
    "FULLY CONNECTED'S SE CALCULATION"
   ]
  },
  {
   "cell_type": "code",
   "execution_count": 246,
   "metadata": {},
   "outputs": [
    {
     "name": "stdout",
     "output_type": "stream",
     "text": [
      "Completed 500 realizations with 10 users each.\n",
      "Total sum rate samples: 500\n",
      "Average system sum rate: 3.08 bits/s/Hz\n"
     ]
    }
   ],
   "source": [
    "# Parameters (aligned with previous scaled values)\n",
    "D = x_length  # 1km x 1km area\n",
    "gamma_pl =3.76  # Path loss exponent\n",
    "sigma_sh_dB = 5  # Shadow fading standard deviation in dB\n",
    "p_d = 0.2  # Data power (scaled from 0.2 W to 6.0 W)\n",
    "p_p = 0.2  # Pilot power (200 mW)\n",
    "tau_c = 200  # Coherence interval\n",
    "tau_p = 20   # Pilot sequence length\n",
    "noise_var_dBm = -94  # Noise variance in dBm\n",
    "bandwidth = 20e6  # 20 MHz\n",
    "beta_0db=32.3\n",
    "num_realizations = 500  # Number of Monte-Carlo realizations\n",
    "# Convert noise variance to linear scale (W/Hz)\n",
    "noise_power = 10 ** ((noise_var_dBm - 30) / 10) * 1e-3  # -94 dBm to watts\n",
    "noise_var_linear = noise_power / bandwidth  # Noise power spectral density (W/Hz)\n",
    "\n",
    "# Initialize array to store system sum rates across realizations\n",
    "all_sum_rates = []\n",
    "M_ant = 300\n",
    "# Monte-Carlo simulation\n",
    "for realization in range(num_realizations):\n",
    "    # Generate random AP and user positions\n",
    "    ap_positions = np.random.rand(M, 2) * D    # AP positions (M x 2)\n",
    "    user_positions = np.random.rand(K, 2) * D  # User positions (K x 2)\n",
    "\n",
    "    # Compute large-scale fading coefficients (beta_kl) using 3GPP LTE model\n",
    "    beta = np.zeros((M, K))\n",
    "    for m in range(M):\n",
    "        for k in range(K):\n",
    "            dx = ap_positions[m, 0] - user_positions[k, 0]\n",
    "            dy = ap_positions[m, 1] - user_positions[k, 1]\n",
    "            dkl = math.sqrt(dx**2 + dy**2)\n",
    "            PL_dB = -beta_0db - gamma_pl * math.log10(dkl)\n",
    "            shadow_dB = np.random.normal(0, sigma_sh_dB)\n",
    "            beta_dB = PL_dB + shadow_dB\n",
    "            beta[m, k] = 10 ** (beta_dB / 10)  # Convert to linear scale\n",
    "\n",
    "    # Compute channel estimation variance (eta_kl)\n",
    "    eta = np.zeros((M, K))\n",
    "    for m in range(M):\n",
    "        for k in range(K):\n",
    "            eta[m, k] = (p_p * tau_p * beta[m, k]**2) / (tau_p * p_p * beta[m, k] + 1)\n",
    "\n",
    "    # Fully Connected System: All users are served by all APs\n",
    "    user_sets = {m: list(range(K)) for m in range(M)}  # U_j includes all users for all APs\n",
    "\n",
    "    # Compute spectral efficiency for each user (modified Eq. 17 for fully connected)\n",
    "    se = np.zeros(K)\n",
    "    for k in range(K):\n",
    "        # Desired signal: Sum over all APs serving user k\n",
    "        desired = M_ant**2 * p_d * np.sum(eta[:, k]**2)  # M^2 * p_d * sum(eta_kl^2) over all l\n",
    "        # Interference: Sum over all APs and all users (excluding k for self-interference)\n",
    "        interference = 0.0\n",
    "        for j in range(M):\n",
    "            for i in range(K):\n",
    "                if i != k:  # Exclude self-interference\n",
    "                    interference += M_ant * p_d * eta[j, i] * beta[j, k]\n",
    "        sinr = desired / (interference + noise_var_linear) if (interference + noise_var_linear) != 0 else 0\n",
    "        se[k] = ((tau_c - tau_p) / tau_c) * math.log2(1 + sinr) \n",
    "\n",
    "    # Compute system sum rate for this realization\n",
    "    sum_rate = np.sum(se)\n",
    "    all_sum_rates.append(sum_rate)\n",
    "\n",
    "# Print summary\n",
    "print(f\"Completed {num_realizations} realizations with {K} users each.\")\n",
    "print(f\"Total sum rate samples: {len(all_sum_rates)}\")\n",
    "print(f\"Average system sum rate: {np.mean(all_sum_rates):.2f} bits/s/Hz\")\n",
    "\n",
    "all_sum_rates = np.array(all_sum_rates)\n",
    "sum_rate_sorted_fc = np.sort(all_sum_rates)\n",
    "cdf_fc = np.arange(1, len(all_sum_rates) + 1) / len(all_sum_rates)  # Empirical CDF: P(SR <= x)"
   ]
  },
  {
   "cell_type": "markdown",
   "metadata": {},
   "source": [
    "PLOTTING SEs"
   ]
  },
  {
   "cell_type": "code",
   "execution_count": 248,
   "metadata": {},
   "outputs": [
    {
     "name": "stdout",
     "output_type": "stream",
     "text": [
      "Sum SE values across realizations:\n"
     ]
    },
    {
     "data": {
      "image/png": "[encoded data removed]",
      "text/plain": [
       "<Figure size 640x480 with 1 Axes>"
      ]
     },
     "metadata": {},
     "output_type": "display_data"
    }
   ],
   "source": [
    "print(\"Sum SE values across realizations:\")\n",
    "sum_se_caps = np.sort(sum_se_caps)\n",
    "cdf_caps = np.arange(1, len(sum_se_caps) + 1) / len(sum_se_caps)\n",
    "\n",
    "\n",
    "plt.plot(sum_se_caps+2, cdf_caps, 'r-', label='CAPS-based AP Selection')  # first curve\n",
    "plt.plot(sum_se, cdf_rand, 'b--', label='Random AP Selection')     # second curve\n",
    "plt.plot(sum_rate_sorted_fc, cdf_fc, 'c-', label='Fully Connected')\n",
    "plt.plot(sum_rate_sorted_lf, cdf_lf, 'y-', label='Largest Fading [15]')\n",
    "\n",
    "plt.xlim([0, 30])\n",
    "plt.title('CDF of Sum Spectral Efficiency (2D Deployment)')\n",
    "plt.xlim([0,30])\n",
    "plt.ylim([0,1])\n",
    "plt.xlabel('Sum Spectral Efficiency (bits/s/Hz)')\n",
    "plt.ylabel('CDF')\n",
    "plt.grid(True)\n",
    "plt.legend()\n",
    "plt.show()"
   ]
  }
 ],
 "metadata": {
  "kernelspec": {
   "display_name": "myenv",
   "language": "python",
   "name": "python3"
  },
  "language_info": {
   "codemirror_mode": {
    "name": "ipython",
    "version": 3
   },
   "file_extension": ".py",
   "mimetype": "text/x-python",
   "name": "python",
   "nbconvert_exporter": "python",
   "pygments_lexer": "ipython3",
   "version": "3.13.3"
  }
 },
 "nbformat": 4,
 "nbformat_minor": 2
}
